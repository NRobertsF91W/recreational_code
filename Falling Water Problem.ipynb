{
 "cells": [
  {
   "cell_type": "code",
   "execution_count": 6,
   "metadata": {},
   "outputs": [],
   "source": [
    "import numpy as np\n",
    "import matplotlib.pyplot as plt\n",
    "from matplotlib.patches import Ellipse"
   ]
  },
  {
   "cell_type": "code",
   "execution_count": 48,
   "metadata": {},
   "outputs": [],
   "source": [
    "def build_random_rain_barchart(height_list_length: int, max_height: int) -> list:\n",
    "    \"\"\"\n",
    "    Generate a bar chart with random heights to simulate rainfall, with an accompanying ellipse to represent a rain cloud.\n",
    "    \n",
    "    Parameters:\n",
    "    height_list_length (int): The length of the list of heights for the bar chart.\n",
    "    max_height (int): The maximum possible height for the bars.\n",
    "    \n",
    "    Returns:\n",
    "    height_list (list): A list of random heights generated for the bar chart.\n",
    "    \"\"\"\n",
    "    # Generate a list of random heights for the bars\n",
    "    height_list = np.random.randint(0,max_height, size=height_list_length)\n",
    "    \n",
    "    # Create a new figure and axis for the bar chart\n",
    "    fig_bar = plt.figure(figsize=(4,4))\n",
    "    ax_bar = fig_bar.add_subplot(111)\n",
    "\n",
    "    # Create the bar chart with the generated heights\n",
    "    ax_bar.bar(np.arange(height_list_length)+0.5, height_list, width=1, color='brown')\n",
    "    ax_bar.set_ylim(0,height_list_length)\n",
    "    \n",
    "    # Set the y-axis label and tick marks to match the number of bars\n",
    "    ax_bar.set_ylabel('Height')\n",
    "    ax_bar.set_yticks(np.arange(height_list_length))\n",
    "    \n",
    "    # Set the x-axis tick marks to match the number of bars\n",
    "    ax_bar.set_xticks(np.arange(height_list_length))\n",
    "    \n",
    "    # Add an ellipse to represent a rain cloud above the center of the chart\n",
    "    ax_bar.add_patch(Ellipse((height_list_length/2, height_list_length-2), height_list_length*0.75, height_list_length*0.25, fc='gray'))\n",
    "    \n",
    "    # Add an annotation to label the rain cloud\n",
    "    ax_bar.annotate('Rain', xy=(height_list_length/2, height_list_length/2 + 2), xytext=(height_list_length/2, height_list_length-2), \n",
    "                    arrowprops = dict(facecolor='darkblue'),color='white', fontsize=20)\n",
    "    \n",
    "    # Display the bar chart\n",
    "    plt.show()\n",
    "    \n",
    "    # Return the list of generated heights\n",
    "    return height_list"
   ]
  },
  {
   "cell_type": "code",
   "execution_count": 49,
   "metadata": {},
   "outputs": [],
   "source": [
    "def after_rainfall_bar(height_list: list, rain_list: list) -> None:\n",
    "    \"\"\"\n",
    "    Generate a bar chart showing the heights of bars before and after a rainfall.\n",
    "    \n",
    "    Parameters:\n",
    "    height_list (list): The list of heights for the bars before the rainfall.\n",
    "    rain_list (list): The list of additional heights for the bars after the rainfall.\n",
    "    \n",
    "    Returns:\n",
    "    None\n",
    "    \"\"\"\n",
    "    # Create a new figure and axis for the bar chart\n",
    "    fig_rain = plt.figure(figsize=(4,4))\n",
    "    ax_rain = fig_rain.add_subplot(111)\n",
    "\n",
    "    # Create two sets of bars: one for the original heights, and one for the additional heights after the rainfall\n",
    "    ax_rain.bar(np.arange(len(height_list))+0.5, rain_list+height_list, width=1, color='darkblue')\n",
    "    ax_rain.bar(np.arange(len(height_list))+0.5, height_list, width=1, color='brown')\n",
    "    \n",
    "    # Set the y-axis limit, label, and tick marks to match the number of bars\n",
    "    ax_rain.set_ylim(0,len(height_list))\n",
    "    ax_rain.set_ylabel('Height')\n",
    "    ax_rain.set_yticks(np.arange(len(height_list)))\n",
    "    \n",
    "    # Set the x-axis tick marks to match the number of bars\n",
    "    ax_rain.set_xticks(np.arange(len(height_list)))\n",
    "    \n",
    "    # Display the bar chart\n",
    "    plt.show()\n"
   ]
  },
  {
   "cell_type": "code",
   "execution_count": 50,
   "metadata": {},
   "outputs": [],
   "source": [
    "def rain_calc(height_list):\n",
    "    \"\"\"\n",
    "    Calculates the rainfall for a list of heights.\n",
    "\n",
    "    Args:\n",
    "        height_list (list): A list of heights.\n",
    "\n",
    "    Returns:\n",
    "        list: A list of the same length as `height_list` containing the amount of\n",
    "        rainfall for each height.\n",
    "\n",
    "    Raises:\n",
    "        ValueError: If `height_list` is empty or contains negative values.\n",
    "    \"\"\"\n",
    "    # Check that the height list is not empty and contains only non-negative values\n",
    "    if len(height_list) == 0: # not pythonic but prevents numpy issues\n",
    "        raise ValueError(\"height_list cannot be empty\")\n",
    "    if any(height < 0 for height in height_list):\n",
    "        raise ValueError(\"height_list can only contain non-negative values\")\n",
    "\n",
    "    keep_h_list = []\n",
    "    current_height = 0\n",
    "    outer_loop_index = 0\n",
    "\n",
    "    # Loop through the height list\n",
    "    while outer_loop_index < len(height_list):\n",
    "\n",
    "        # If the current height is lower than the previous height, there is rainfall\n",
    "        if height_list[outer_loop_index] < current_height:\n",
    "            left_height_diff = current_height - height_list[outer_loop_index]\n",
    "\n",
    "            next_height_count = 0\n",
    "            right_step = 0\n",
    "            loop_index = outer_loop_index+1\n",
    "            greatest_index = outer_loop_index+1\n",
    "\n",
    "            # Find the greatest height after the current height and its index\n",
    "            while (next_height_count < current_height) and loop_index < len(height_list):\n",
    "                if next_height_count < height_list[loop_index]:\n",
    "                    next_height_count = height_list[loop_index]\n",
    "                    greatest_index = loop_index\n",
    "                loop_index += 1\n",
    "\n",
    "            # Calculate the height of the rainfall\n",
    "            ij_diff = greatest_index - outer_loop_index\n",
    "            lowest_of_two_highs = min(next_height_count, current_height)\n",
    "            height_to_add = lowest_of_two_highs - height_list[outer_loop_index:outer_loop_index+ij_diff]\n",
    "            height_to_add[height_to_add < 0] = 0\n",
    "            if len(height_to_add) == 0:\n",
    "                height_to_add = [0]\n",
    "\n",
    "            # Add the height of the rainfall to the list\n",
    "            keep_h_list.extend(height_to_add)\n",
    "\n",
    "            # Set the current height to the minimum height within the current range\n",
    "            if len(height_list[outer_loop_index:outer_loop_index+ij_diff]) != 0:\n",
    "                current_height = min(height_list[outer_loop_index:outer_loop_index+ij_diff])\n",
    "\n",
    "            # Move the outer loop index to the index of the greatest height\n",
    "            if outer_loop_index < len(height_list)-1:\n",
    "                outer_loop_index = greatest_index\n",
    "            else:\n",
    "                outer_loop_index += 1\n",
    "\n",
    "        # If the current height is greater than or equal to the previous height, there is no rainfall\n",
    "        elif height_list[outer_loop_index] >= current_height:\n",
    "            keep_h_list.extend([0])\n",
    "            current_height = height_list[outer_loop_index]\n",
    "            outer_loop_index += 1\n",
    "\n",
    "    total_rainfall = np.sum(keep_h_list)\n",
    "    print(f\"Total rainfall: {total_rainfall}\")\n",
    "    return keep_h_list\n"
   ]
  },
  {
   "cell_type": "code",
   "execution_count": 51,
   "metadata": {},
   "outputs": [
    {
     "data": {
      "image/png": "[encoded data removed]",
      "text/plain": [
       "<Figure size 400x400 with 1 Axes>"
      ]
     },
     "metadata": {},
     "output_type": "display_data"
    },
    {
     "name": "stdout",
     "output_type": "stream",
     "text": [
      "Total rainfall: 48\n"
     ]
    },
    {
     "data": {
      "image/png": "[encoded data removed]",
      "text/plain": [
       "<Figure size 400x400 with 1 Axes>"
      ]
     },
     "metadata": {},
     "output_type": "display_data"
    }
   ],
   "source": [
    "heights = build_random_rain_barchart(15,8)\n",
    "rain_locs = rain_calc(heights)\n",
    "after_rainfall_bar(heights, rain_locs)"
   ]
  },
  {
   "cell_type": "code",
   "execution_count": 248,
   "metadata": {},
   "outputs": [
    {
     "name": "stdout",
     "output_type": "stream",
     "text": [
      "left height:5\n",
      "[5 4 7 3 4]\n",
      "left height:2\n",
      "[2]\n",
      "left height:1\n",
      "[0]\n",
      "left height:5\n",
      "[0]\n",
      "Total rainfall: 25\n"
     ]
    },
    {
     "data": {
      "image/png": "[encoded data removed]",
      "text/plain": [
       "<Figure size 300x300 with 1 Axes>"
      ]
     },
     "metadata": {},
     "output_type": "display_data"
    }
   ],
   "source": []
  },
  {
   "cell_type": "code",
   "execution_count": null,
   "metadata": {},
   "outputs": [],
   "source": []
  }
 ],
 "metadata": {
  "kernelspec": {
   "display_name": "Python 3",
   "language": "python",
   "name": "python3"
  },
  "language_info": {
   "codemirror_mode": {
    "name": "ipython",
    "version": 3
   },
   "file_extension": ".py",
   "mimetype": "text/x-python",
   "name": "python",
   "nbconvert_exporter": "python",
   "pygments_lexer": "ipython3",
   "version": "3.11.1"
  },
  "orig_nbformat": 4
 },
 "nbformat": 4,
 "nbformat_minor": 2
}
